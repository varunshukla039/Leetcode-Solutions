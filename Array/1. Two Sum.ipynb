{
  "nbformat": 4,
  "nbformat_minor": 0,
  "metadata": {
    "colab": {
      "provenance": []
    },
    "kernelspec": {
      "name": "python3",
      "display_name": "Python 3"
    },
    "language_info": {
      "name": "python"
    }
  },
  "cells": [
    {
      "cell_type": "code",
      "execution_count": null,
      "metadata": {
        "id": "shiM27bHpdlZ"
      },
      "outputs": [],
      "source": [
        "class Solution(object):\n",
        "    def twoSum(self, nums, target):\n",
        "        n=len(nums)\n",
        "        for i in range (n-1):\n",
        "            for j in range(i+1,n):\n",
        "                if nums[i]+nums[j]==target:\n",
        "                    return (i,j)\n",
        "        return []"
      ]
    }
  ]
}